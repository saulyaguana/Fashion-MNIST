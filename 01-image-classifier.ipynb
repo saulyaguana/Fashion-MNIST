{
 "cells": [
  {
   "cell_type": "code",
   "execution_count": 1,
   "metadata": {},
   "outputs": [],
   "source": [
    "import random\n",
    "\n",
    "import numpy as np\n",
    "import pandas as pd\n",
    "import matplotlib.pyplot as plt\n",
    "\n",
    "import tensorflow as tf\n",
    "from tensorflow import keras"
   ]
  },
  {
   "cell_type": "markdown",
   "metadata": {},
   "source": [
    "# The dataset\n",
    "\n",
    "This TensorFlow dataset is made up of 28 x 28 grayscale images into 10 classes (from 0 to 9) with pixel values between 0 and 255.\n",
    "\n",
    "*Fashion MNIST datset* is made up of 60_000 training images and 10_000 test images.\n",
    "\n",
    "This dataset has all the images in the same shape, so we have little preprocessing to do."
   ]
  },
  {
   "cell_type": "code",
   "execution_count": 2,
   "metadata": {},
   "outputs": [],
   "source": [
    "# Import the fashion_mnist dataset from TensorFlow\n",
    "# Create the training and testing dataset using the load_data() method\n",
    "fashion_data = keras.datasets.fashion_mnist\n",
    "\n",
    "# Create numpy array of training and testing data\n",
    "(train_images, train_labels), (test_images, test_labels) = fashion_data.load_data()"
   ]
  },
  {
   "cell_type": "code",
   "execution_count": 4,
   "metadata": {},
   "outputs": [
    {
     "name": "stdout",
     "output_type": "stream",
     "text": [
      "The size of train images are: (60000, 28, 28)\n",
      "The size of the train labels are: (60000,)\n",
      "\n",
      "The size of testing images are: (10000, 28, 28)\n",
      "The size of testing labels are: (10000,)\n"
     ]
    }
   ],
   "source": [
    "# Training data\n",
    "print(f\"The size of train images are: {train_images.shape}\")\n",
    "print(f\"The size of the train labels are: {train_labels.shape}\")\n",
    "\n",
    "print()\n",
    "# Testing data\n",
    "print(f\"The size of testing images are: {test_images.shape}\")\n",
    "print(f\"The size of testing labels are: {test_labels.shape}\")"
   ]
  },
  {
   "cell_type": "markdown",
   "metadata": {},
   "source": [
    "Rather than using numeric labels, let us create labels that match our data such that we can call a dress a dress, rather than call it number 3.\n",
    "We will do that by creating a list of our labels, which we will map to the corresponding numeric values:"
   ]
  },
  {
   "cell_type": "code",
   "execution_count": 9,
   "metadata": {},
   "outputs": [
    {
     "name": "stdout",
     "output_type": "stream",
     "text": [
      "9\n",
      "2\n"
     ]
    }
   ],
   "source": [
    "print(train_labels[0])\n",
    "print(train_labels[45])"
   ]
  },
  {
   "cell_type": "code",
   "execution_count": 10,
   "metadata": {},
   "outputs": [],
   "source": [
    "# We create a list of the categories\n",
    "class_names = [\"Top\", \"Trouser\", \"Pullover\", \"Dress\", \"Coat\", \"Sandal\", \"Shirt\", \"Sneaker\", \"Bag\", \"Ankleboot\"]"
   ]
  },
  {
   "cell_type": "markdown",
   "metadata": {},
   "source": [
    "Now we have the data, let us explore the data and see what we can find. Let's explore the data to verify the size, the shape, and the data distributions."
   ]
  },
  {
   "cell_type": "code",
   "execution_count": null,
   "metadata": {},
   "outputs": [],
   "source": []
  }
 ],
 "metadata": {
  "kernelspec": {
   "display_name": "venv",
   "language": "python",
   "name": "python3"
  },
  "language_info": {
   "codemirror_mode": {
    "name": "ipython",
    "version": 3
   },
   "file_extension": ".py",
   "mimetype": "text/x-python",
   "name": "python",
   "nbconvert_exporter": "python",
   "pygments_lexer": "ipython3",
   "version": "3.12.4"
  }
 },
 "nbformat": 4,
 "nbformat_minor": 2
}
