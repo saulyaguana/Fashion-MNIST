{
 "cells": [
  {
   "cell_type": "code",
   "execution_count": 16,
   "metadata": {},
   "outputs": [],
   "source": [
    "import random\n",
    "\n",
    "import numpy as np\n",
    "import pandas as pd\n",
    "import matplotlib.pyplot as plt\n",
    "\n",
    "import tensorflow as tf\n",
    "from tensorflow import keras\n",
    "from tensorflow.keras import Sequential\n",
    "from tensorflow.keras.layers import Flatten, Dense\n",
    "\n",
    "plt.rcParams[\"image.cmap\"] = 'gray'"
   ]
  },
  {
   "cell_type": "markdown",
   "metadata": {},
   "source": [
    "# The dataset\n",
    "\n",
    "This TensorFlow dataset is made up of 28 x 28 grayscale images into 10 classes (from 0 to 9) with pixel values between 0 and 255.\n",
    "\n",
    "*Fashion MNIST datset* is made up of 60_000 training images and 10_000 test images.\n",
    "\n",
    "This dataset has all the images in the same shape, so we have little preprocessing to do."
   ]
  },
  {
   "cell_type": "code",
   "execution_count": 2,
   "metadata": {},
   "outputs": [],
   "source": [
    "# Import the fashion_mnist dataset from TensorFlow\n",
    "# Create the training and testing dataset using the load_data() method\n",
    "fashion_data = keras.datasets.fashion_mnist\n",
    "\n",
    "# Create numpy array of training and testing data\n",
    "(train_images, train_labels), (test_images, test_labels) = fashion_data.load_data()"
   ]
  },
  {
   "cell_type": "code",
   "execution_count": 3,
   "metadata": {},
   "outputs": [
    {
     "name": "stdout",
     "output_type": "stream",
     "text": [
      "The size of train images are: (60000, 28, 28)\n",
      "The size of the train labels are: (60000,)\n",
      "\n",
      "The size of testing images are: (10000, 28, 28)\n",
      "The size of testing labels are: (10000,)\n"
     ]
    }
   ],
   "source": [
    "# Training data\n",
    "print(f\"The size of train images are: {train_images.shape}\")\n",
    "print(f\"The size of the train labels are: {train_labels.shape}\")\n",
    "\n",
    "print()\n",
    "# Testing data\n",
    "print(f\"The size of testing images are: {test_images.shape}\")\n",
    "print(f\"The size of testing labels are: {test_labels.shape}\")"
   ]
  },
  {
   "cell_type": "markdown",
   "metadata": {},
   "source": [
    "Rather than using numeric labels, let us create labels that match our data such that we can call a dress a dress, rather than call it number 3.\n",
    "We will do that by creating a list of our labels, which we will map to the corresponding numeric values:"
   ]
  },
  {
   "cell_type": "code",
   "execution_count": 4,
   "metadata": {},
   "outputs": [
    {
     "name": "stdout",
     "output_type": "stream",
     "text": [
      "9\n",
      "2\n"
     ]
    }
   ],
   "source": [
    "print(train_labels[0])\n",
    "print(train_labels[45])"
   ]
  },
  {
   "cell_type": "code",
   "execution_count": 5,
   "metadata": {},
   "outputs": [],
   "source": [
    "# We create a list of the categories\n",
    "class_names = [\"Top\", \"Trouser\", \"Pullover\", \"Dress\", \"Coat\", \"Sandal\", \"Shirt\", \"Sneaker\", \"Bag\", \"Ankleboot\"]"
   ]
  },
  {
   "cell_type": "markdown",
   "metadata": {},
   "source": [
    "Now we have the data, let us explore the data and see what we can find. Let's explore the data to verify the size, the shape, and the data distributions.\n",
    "\n",
    "## Performing exploratory data analysis\n",
    "After we load the data, the next step is to examine it to get a sense of what the data is. let us confirm all the details using code.\n",
    "\n",
    "1. We will use the **matplotlib** library to generate image samples at index *i* , where *i* falls within the 60_000 training samples:"
   ]
  },
  {
   "cell_type": "code",
   "execution_count": 6,
   "metadata": {},
   "outputs": [
    {
     "data": {
      "image/png": "[encoded data removed]",
      "text/plain": [
       "<Figure size 640x480 with 1 Axes>"
      ]
     },
     "metadata": {},
     "output_type": "display_data"
    }
   ],
   "source": [
    "# Display a sample image from the training data (index 7)\n",
    "plt.imshow(train_images[7])\n",
    "plt.title(\"Pullover at index 7 - train images\")\n",
    "plt.grid(False)\n",
    "plt.axis('off')\n",
    "plt.show()"
   ]
  },
  {
   "cell_type": "code",
   "execution_count": 7,
   "metadata": {},
   "outputs": [
    {
     "data": {
      "image/png": "[encoded data removed]",
      "text/plain": [
       "<Figure size 1200x800 with 8 Axes>"
      ]
     },
     "metadata": {},
     "output_type": "display_data"
    }
   ],
   "source": [
    "fig, axes = plt.subplots(2, 4, figsize=(12, 8))\n",
    "for row in range(0, 2):\n",
    "    for column in range(0, 4):\n",
    "        axes[row, column].imshow(train_images[random.randint(1, 1000)])\n",
    "        axes[row, column].grid(False)\n",
    "        axes[row, column].axis('off')"
   ]
  },
  {
   "cell_type": "code",
   "execution_count": 8,
   "metadata": {},
   "outputs": [
    {
     "data": {
      "text/plain": [
       "((60000, 28, 28), (10000, 28, 28))"
      ]
     },
     "execution_count": 8,
     "metadata": {},
     "output_type": "execute_result"
    }
   ],
   "source": [
    "# Check the shape of our training images and testing images\n",
    "train_images.shape, test_images.shape"
   ]
  },
  {
   "cell_type": "markdown",
   "metadata": {},
   "source": [
    "## Check the distribution of the data\n",
    "\n",
    "It's best practice to see how your data is distributed to ensure there is enough representation for each class of clothing we want to train the model on."
   ]
  },
  {
   "cell_type": "code",
   "execution_count": 9,
   "metadata": {},
   "outputs": [],
   "source": [
    "df = pd.DataFrame(np.unique(train_labels, return_counts=True)).T\n",
    "dict = {0: \"Label\", 1: \"Count\"}\n",
    "df.rename(columns=dict, inplace=True)"
   ]
  },
  {
   "cell_type": "code",
   "execution_count": 10,
   "metadata": {},
   "outputs": [
    {
     "data": {
      "text/html": [
       "<div>\n",
       "<style scoped>\n",
       "    .dataframe tbody tr th:only-of-type {\n",
       "        vertical-align: middle;\n",
       "    }\n",
       "\n",
       "    .dataframe tbody tr th {\n",
       "        vertical-align: top;\n",
       "    }\n",
       "\n",
       "    .dataframe thead th {\n",
       "        text-align: right;\n",
       "    }\n",
       "</style>\n",
       "<table border=\"1\" class=\"dataframe\">\n",
       "  <thead>\n",
       "    <tr style=\"text-align: right;\">\n",
       "      <th></th>\n",
       "      <th>Label</th>\n",
       "      <th>Count</th>\n",
       "    </tr>\n",
       "  </thead>\n",
       "  <tbody>\n",
       "    <tr>\n",
       "      <th>0</th>\n",
       "      <td>0</td>\n",
       "      <td>6000</td>\n",
       "    </tr>\n",
       "    <tr>\n",
       "      <th>1</th>\n",
       "      <td>1</td>\n",
       "      <td>6000</td>\n",
       "    </tr>\n",
       "    <tr>\n",
       "      <th>2</th>\n",
       "      <td>2</td>\n",
       "      <td>6000</td>\n",
       "    </tr>\n",
       "    <tr>\n",
       "      <th>3</th>\n",
       "      <td>3</td>\n",
       "      <td>6000</td>\n",
       "    </tr>\n",
       "    <tr>\n",
       "      <th>4</th>\n",
       "      <td>4</td>\n",
       "      <td>6000</td>\n",
       "    </tr>\n",
       "    <tr>\n",
       "      <th>5</th>\n",
       "      <td>5</td>\n",
       "      <td>6000</td>\n",
       "    </tr>\n",
       "    <tr>\n",
       "      <th>6</th>\n",
       "      <td>6</td>\n",
       "      <td>6000</td>\n",
       "    </tr>\n",
       "    <tr>\n",
       "      <th>7</th>\n",
       "      <td>7</td>\n",
       "      <td>6000</td>\n",
       "    </tr>\n",
       "    <tr>\n",
       "      <th>8</th>\n",
       "      <td>8</td>\n",
       "      <td>6000</td>\n",
       "    </tr>\n",
       "    <tr>\n",
       "      <th>9</th>\n",
       "      <td>9</td>\n",
       "      <td>6000</td>\n",
       "    </tr>\n",
       "  </tbody>\n",
       "</table>\n",
       "</div>"
      ],
      "text/plain": [
       "  Label Count\n",
       "0     0  6000\n",
       "1     1  6000\n",
       "2     2  6000\n",
       "3     3  6000\n",
       "4     4  6000\n",
       "5     5  6000\n",
       "6     6  6000\n",
       "7     7  6000\n",
       "8     8  6000\n",
       "9     9  6000"
      ]
     },
     "execution_count": 10,
     "metadata": {},
     "output_type": "execute_result"
    }
   ],
   "source": [
    "# All the labels have the same number of samples\n",
    "df"
   ]
  },
  {
   "cell_type": "markdown",
   "metadata": {},
   "source": [
    "The data is made up of grayscale images with values from 0 to 255. To bring the data to scale, we will have to normalize the data to improve the performance of the model during training.\n",
    "\n",
    "We can do this by simply dividing the training and testing data by 255."
   ]
  },
  {
   "cell_type": "code",
   "execution_count": 13,
   "metadata": {},
   "outputs": [
    {
     "data": {
      "text/plain": [
       "array([  0,   0,   1,   4,   6,   7,   2,   0,   0,   0,   0,   0, 237,\n",
       "       226, 217, 223, 222, 219, 222, 221, 216, 223, 229, 215, 218, 255,\n",
       "        77,   0], dtype=uint8)"
      ]
     },
     "execution_count": 13,
     "metadata": {},
     "output_type": "execute_result"
    }
   ],
   "source": [
    "train_images[0][14]"
   ]
  },
  {
   "cell_type": "code",
   "execution_count": 14,
   "metadata": {},
   "outputs": [],
   "source": [
    "# It's important that the training and testing set are preprocessed in the same way\n",
    "train_images = train_images / 255.0\n",
    "test_images = test_images / 255.0"
   ]
  },
  {
   "cell_type": "code",
   "execution_count": 15,
   "metadata": {},
   "outputs": [
    {
     "data": {
      "text/plain": [
       "array([0.        , 0.        , 0.00392157, 0.01568627, 0.02352941,\n",
       "       0.02745098, 0.00784314, 0.        , 0.        , 0.        ,\n",
       "       0.        , 0.        , 0.92941176, 0.88627451, 0.85098039,\n",
       "       0.8745098 , 0.87058824, 0.85882353, 0.87058824, 0.86666667,\n",
       "       0.84705882, 0.8745098 , 0.89803922, 0.84313725, 0.85490196,\n",
       "       1.        , 0.30196078, 0.        ])"
      ]
     },
     "execution_count": 15,
     "metadata": {},
     "output_type": "execute_result"
    }
   ],
   "source": [
    "train_images[0][14]"
   ]
  },
  {
   "cell_type": "markdown",
   "metadata": {},
   "source": [
    "# Building the model\n",
    "\n",
    "Now that we have normalized our data, we are all set for modeling it.\n",
    "\n",
    "The first layer is a flatten layer. This layer is used to flatten the image data into a 1D array that will be passed into the hidden layer.\n",
    "\n",
    "The input layer has no neurons; it works as a data preprocessing layer, presenting the hidden layer with data flattened into a 1D array"
   ]
  },
  {
   "cell_type": "code",
   "execution_count": 17,
   "metadata": {},
   "outputs": [
    {
     "name": "stderr",
     "output_type": "stream",
     "text": [
      "c:\\Users\\Usuario iTC\\Desktop\\Fashion-MNIST\\venv\\Lib\\site-packages\\keras\\src\\layers\\reshaping\\flatten.py:37: UserWarning: Do not pass an `input_shape`/`input_dim` argument to a layer. When using Sequential models, prefer using an `Input(shape)` object as the first layer in the model instead.\n",
      "  super().__init__(**kwargs)\n"
     ]
    }
   ],
   "source": [
    "# Step 1: Model configuration | building the model\n",
    "model = Sequential(\n",
    "    [\n",
    "        Flatten(input_shape=(28, 28)),\n",
    "        Dense(64, activation=\"relu\"),\n",
    "        Dense(10, activation=\"softmax\")\n",
    "    ]\n",
    ")"
   ]
  },
  {
   "cell_type": "code",
   "execution_count": null,
   "metadata": {},
   "outputs": [],
   "source": []
  }
 ],
 "metadata": {
  "kernelspec": {
   "display_name": "venv",
   "language": "python",
   "name": "python3"
  },
  "language_info": {
   "codemirror_mode": {
    "name": "ipython",
    "version": 3
   },
   "file_extension": ".py",
   "mimetype": "text/x-python",
   "name": "python",
   "nbconvert_exporter": "python",
   "pygments_lexer": "ipython3",
   "version": "3.12.4"
  }
 },
 "nbformat": 4,
 "nbformat_minor": 2
}
